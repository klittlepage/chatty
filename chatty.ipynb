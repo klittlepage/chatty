{
 "cells": [
  {
   "cell_type": "code",
   "execution_count": null,
   "metadata": {},
   "outputs": [],
   "source": [
    "%matplotlib inline\n",
    "\n",
    "from datetime import datetime\n",
    "\n",
    "import pytz\n",
    "\n",
    "from chatty import load_vars\n",
    "from chatty.analysis.preprocessing import normalize_messages\n",
    "from chatty.analysis.analysis import sentiment, emoji_table, vocab_table, \\\n",
    "                                     word_count_table\n",
    "from chatty.sources import imessage_chat\n",
    "from chatty.visualization import comparison_plot, summary_comparison, \\\n",
    "                                 emoji_comparison, vocab_plot, emoji_plot, \\\n",
    "                                 sentiment_plot, word_count_plot, word_cloud"
   ]
  },
  {
   "cell_type": "code",
   "execution_count": null,
   "metadata": {},
   "outputs": [],
   "source": [
    "\"\"\"\n",
    "Replace with an E.164 phone number\n",
    "or iMessage handle, eg\n",
    "RECIPIENT_ID = '+13031234567'\n",
    "RECIPIENT_ID = 'foo@bar.com'\n",
    "\n",
    "Alternatively, create a file called vars.yml\n",
    "in the root project directory (adjacent to this notebook)\n",
    "and define a mapping of the form recipient_id: '+13031234567'.\n",
    "Doing so will allow you to share your notebook without\n",
    "revealing the recipient.\n",
    "\"\"\"\n",
    "# RECIPIENT_ID = load_vars()['recipient_id']\n",
    "RECIPIENT_ID = '+13477913504'"
   ]
  },
  {
   "cell_type": "code",
   "execution_count": null,
   "metadata": {},
   "outputs": [],
   "source": [
    "assert RECIPIENT_ID != 'CHANGEME'"
   ]
  },
  {
   "cell_type": "code",
   "execution_count": null,
   "metadata": {},
   "outputs": [],
   "source": [
    "\"\"\"\n",
    "You can filter messages and pull from sources\n",
    "other than iMessage by redefining the from_messages\n",
    "and to_messages variables; subsequent analysis\n",
    "functions expect that both variables are lists of strings.\n",
    "\"\"\"\n",
    "\n",
    "from_messages = imessage_chat(RECIPIENT_ID, True, include_timestamps=True)\n",
    "to_messages = imessage_chat(RECIPIENT_ID, False, include_timestamps=True)"
   ]
  },
  {
   "cell_type": "code",
   "execution_count": null,
   "metadata": {},
   "outputs": [],
   "source": [
    "# Optionally, write your own filtering logic here\n",
    "\n",
    "def filter_and_map_messages(messages):\n",
    "    cutoff_time = datetime(2021, 1, 16, tzinfo=pytz.timezone('US/Eastern'))\n",
    "    return list(x[1] for x in messages if x[0] >= cutoff_time)\n",
    "\n",
    "from_messages = filter_and_map_messages(from_messages)\n",
    "to_messages = filter_and_map_messages(to_messages)"
   ]
  },
  {
   "cell_type": "code",
   "execution_count": null,
   "metadata": {},
   "outputs": [],
   "source": [
    "from_normalized = normalize_messages(from_messages)\n",
    "from_sentiment = sentiment(from_messages)\n",
    "\n",
    "to_normalized = normalize_messages(to_messages)\n",
    "to_sentiment = sentiment(to_messages)"
   ]
  },
  {
   "cell_type": "code",
   "execution_count": null,
   "metadata": {},
   "outputs": [],
   "source": [
    "summary_comparison(from_normalized, from_sentiment,\n",
    "                   to_normalized, to_sentiment)"
   ]
  },
  {
   "cell_type": "code",
   "execution_count": null,
   "metadata": {},
   "outputs": [],
   "source": [
    "# summary_count controls the number of words/emojis\n",
    "# displayed in a summary\n",
    "summary_count = 15\n",
    "\n",
    "from_emojis = emoji_table(from_messages).head(summary_count)\n",
    "to_emojis = emoji_table(to_messages).head(summary_count)\n",
    "emoji_comparison(from_emojis, to_emojis)"
   ]
  },
  {
   "cell_type": "code",
   "execution_count": null,
   "metadata": {
    "scrolled": false
   },
   "outputs": [],
   "source": [
    "comparison_plot(emoji_plot, from_emojis, to_emojis)"
   ]
  },
  {
   "cell_type": "code",
   "execution_count": null,
   "metadata": {},
   "outputs": [],
   "source": [
    "from_vocab = vocab_table(from_normalized).head(summary_count)\n",
    "to_vocab = vocab_table(to_normalized).head(summary_count)\n",
    "\n",
    "comparison_plot(vocab_plot, from_vocab, to_vocab)"
   ]
  },
  {
   "cell_type": "code",
   "execution_count": null,
   "metadata": {},
   "outputs": [],
   "source": [
    "from_wordcounts = word_count_table(from_normalized)\n",
    "to_wordcounts = word_count_table(to_normalized)\n",
    "\n",
    "comparison_plot(word_count_plot, from_wordcounts, to_wordcounts)"
   ]
  },
  {
   "cell_type": "code",
   "execution_count": null,
   "metadata": {},
   "outputs": [],
   "source": [
    "comparison_plot(sentiment_plot, from_sentiment, to_sentiment)"
   ]
  },
  {
   "cell_type": "code",
   "execution_count": null,
   "metadata": {},
   "outputs": [],
   "source": [
    "word_cloud(from_normalized)"
   ]
  },
  {
   "cell_type": "code",
   "execution_count": null,
   "metadata": {},
   "outputs": [],
   "source": [
    "word_cloud(to_normalized)"
   ]
  }
 ],
 "metadata": {
  "kernelspec": {
   "display_name": "Python 3",
   "language": "python",
   "name": "python3"
  },
  "language_info": {
   "codemirror_mode": {
    "name": "ipython",
    "version": 3
   },
   "file_extension": ".py",
   "mimetype": "text/x-python",
   "name": "python",
   "nbconvert_exporter": "python",
   "pygments_lexer": "ipython3",
   "version": "3.8.5"
  }
 },
 "nbformat": 4,
 "nbformat_minor": 2
}
